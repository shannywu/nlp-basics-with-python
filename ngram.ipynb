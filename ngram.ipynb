{
 "cells": [
  {
   "cell_type": "markdown",
   "metadata": {},
   "source": [
    "### A simple ngram language model"
   ]
  },
  {
   "cell_type": "code",
   "execution_count": 1,
   "metadata": {},
   "outputs": [],
   "source": [
    "import utils\n",
    "from collections import defaultdict"
   ]
  },
  {
   "cell_type": "code",
   "execution_count": 2,
   "metadata": {},
   "outputs": [],
   "source": [
    "fu = utils.FileUtil()"
   ]
  },
  {
   "cell_type": "code",
   "execution_count": 3,
   "metadata": {},
   "outputs": [],
   "source": [
    "def get_ngrams(sentence, n, pad_left=False, pad_right=False):\n",
    "    \"\"\"\n",
    "    return n-grams with or w/o padding\n",
    "    \"\"\"\n",
    "    words = fu.get_words(sentence)\n",
    "    for i in range(n-1):\n",
    "        if pad_left:\n",
    "            words.insert(0, None)\n",
    "        if pad_right:\n",
    "            words.append(None)\n",
    "    result = [words[i:i+n] for i, word in enumerate(words) if i+n <= len(words)]\n",
    "\n",
    "    return result"
   ]
  },
  {
   "cell_type": "code",
   "execution_count": 4,
   "metadata": {},
   "outputs": [],
   "source": [
    "def build_trigram_model(model, sentences):\n",
    "    for sentence in sentences:\n",
    "        trigram = get_ngrams(sentence, 3, pad_left=True, pad_right=True)\n",
    "\n",
    "        for w1, w2, w3 in trigram:\n",
    "            model[(w1, w2)][w3] += 1\n",
    "\n",
    "    for w1_w2, w3_cnt in model.items():\n",
    "        total_cnt = sum(w3_cnt.values())\n",
    "        for w3, cnt in w3_cnt.items():\n",
    "            w3_cnt[w3] /= total_cnt\n",
    "\n",
    "    return model"
   ]
  },
  {
   "cell_type": "code",
   "execution_count": 5,
   "metadata": {},
   "outputs": [],
   "source": [
    "def get_next_word(w1, w2, model):\n",
    "    \"\"\"\n",
    "    return next word with max. freq\n",
    "    \"\"\"\n",
    "    next_word = max(model[(w1, w2)].items(), key=lambda x: x[1])[0]\n",
    "    return next_word"
   ]
  },
  {
   "cell_type": "code",
   "execution_count": 6,
   "metadata": {},
   "outputs": [],
   "source": [
    "def generate_sentence(model, w1 = None, w2 = None):\n",
    "    \"\"\"\n",
    "    return a sentence starts with w1 and w2\n",
    "    \"\"\"\n",
    "    sentence_end = False\n",
    "    sentence = [w1, w2]\n",
    "\n",
    "    while not sentence_end:\n",
    "        word = get_next_word(w1, w2, model)\n",
    "        sentence.append(word)\n",
    "\n",
    "        w1 = w2\n",
    "        w2 = word\n",
    "\n",
    "        if sentence[-2:] == [None, None]:\n",
    "            sentence_end = True\n",
    "\n",
    "    sentence = list(filter(lambda x: x is not None, sentence))\n",
    "    return ' '.join(sentence)"
   ]
  },
  {
   "cell_type": "code",
   "execution_count": 7,
   "metadata": {},
   "outputs": [],
   "source": [
    "lines = fu.read('data/big_story.txt')\n",
    "sentences = fu.get_sentences(lines)"
   ]
  },
  {
   "cell_type": "code",
   "execution_count": 8,
   "metadata": {},
   "outputs": [
    {
     "data": {
      "text/plain": [
       "'I have no doubt that the doctor was furnished with long windows almost to the other side'"
      ]
     },
     "execution_count": 8,
     "metadata": {},
     "output_type": "execute_result"
    }
   ],
   "source": [
    "trigram_model = build_trigram_model(defaultdict(lambda: defaultdict(lambda: 0)), sentences)\n",
    "sentence = generate_sentence(trigram_model, None, None)\n",
    "sentence"
   ]
  },
  {
   "cell_type": "code",
   "execution_count": 13,
   "metadata": {},
   "outputs": [
    {
     "data": {
      "text/plain": [
       "'You will excuse my saying so somewhat to embellish so many of my own'"
      ]
     },
     "execution_count": 13,
     "metadata": {},
     "output_type": "execute_result"
    }
   ],
   "source": [
    "sentence_2 = generate_sentence(trigram_model, 'You', 'will')\n",
    "sentence_2"
   ]
  }
 ],
 "metadata": {
  "kernelspec": {
   "display_name": "Python 3",
   "language": "python",
   "name": "python3"
  },
  "language_info": {
   "codemirror_mode": {
    "name": "ipython",
    "version": 3
   },
   "file_extension": ".py",
   "mimetype": "text/x-python",
   "name": "python",
   "nbconvert_exporter": "python",
   "pygments_lexer": "ipython3",
   "version": "3.6.5"
  }
 },
 "nbformat": 4,
 "nbformat_minor": 2
}
